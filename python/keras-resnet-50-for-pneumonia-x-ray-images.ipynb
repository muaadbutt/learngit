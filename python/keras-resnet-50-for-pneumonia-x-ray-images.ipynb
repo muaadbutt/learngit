{
 "cells": [
  {
   "cell_type": "markdown",
   "metadata": {
    "_uuid": "91a37c216a4d0af94f778f770a010521a624cf2f"
   },
   "source": [
    "# Simple Keras Resnet-50 for Pneumonia\n",
    "\n",
    "This is my first go at using deep learning. **I would really appreciate any advice, feedback or ideas! **"
   ]
  },
  {
   "cell_type": "code",
   "execution_count": 1,
   "metadata": {
    "_cell_guid": "b1076dfc-b9ad-4769-8c92-a6c4dae69d19",
    "_uuid": "8f2839f25d086af736a60e9eeb907d3b93b6e0e5",
    "scrolled": false
   },
   "outputs": [
    {
     "ename": "ModuleNotFoundError",
     "evalue": "No module named 'tensorflow.python.keras.applications.resnet50'",
     "output_type": "error",
     "traceback": [
      "\u001b[1;31m---------------------------------------------------------------------------\u001b[0m",
      "\u001b[1;31mModuleNotFoundError\u001b[0m                       Traceback (most recent call last)",
      "\u001b[1;32m<ipython-input-1-c78d421a2914>\u001b[0m in \u001b[0;36m<module>\u001b[1;34m\u001b[0m\n\u001b[0;32m     10\u001b[0m \u001b[1;33m\u001b[0m\u001b[0m\n\u001b[0;32m     11\u001b[0m \u001b[1;32mfrom\u001b[0m \u001b[0mtensorflow\u001b[0m\u001b[1;33m.\u001b[0m\u001b[0mpython\u001b[0m\u001b[1;33m.\u001b[0m\u001b[0mkeras\u001b[0m\u001b[1;33m.\u001b[0m\u001b[0mapplications\u001b[0m \u001b[1;32mimport\u001b[0m \u001b[0mResNet50\u001b[0m\u001b[1;33m\u001b[0m\u001b[1;33m\u001b[0m\u001b[0m\n\u001b[1;32m---> 12\u001b[1;33m \u001b[1;32mfrom\u001b[0m \u001b[0mtensorflow\u001b[0m\u001b[1;33m.\u001b[0m\u001b[0mpython\u001b[0m\u001b[1;33m.\u001b[0m\u001b[0mkeras\u001b[0m\u001b[1;33m.\u001b[0m\u001b[0mapplications\u001b[0m\u001b[1;33m.\u001b[0m\u001b[0mresnet50\u001b[0m \u001b[1;32mimport\u001b[0m \u001b[0mpreprocess_input\u001b[0m\u001b[1;33m,\u001b[0m \u001b[0mdecode_predictions\u001b[0m\u001b[1;33m\u001b[0m\u001b[1;33m\u001b[0m\u001b[0m\n\u001b[0m\u001b[0;32m     13\u001b[0m \u001b[1;32mfrom\u001b[0m \u001b[0mtensorflow\u001b[0m\u001b[1;33m.\u001b[0m\u001b[0mpython\u001b[0m\u001b[1;33m.\u001b[0m\u001b[0mkeras\u001b[0m\u001b[1;33m.\u001b[0m\u001b[0mmodels\u001b[0m \u001b[1;32mimport\u001b[0m \u001b[0mSequential\u001b[0m\u001b[1;33m\u001b[0m\u001b[1;33m\u001b[0m\u001b[0m\n\u001b[0;32m     14\u001b[0m \u001b[1;32mfrom\u001b[0m \u001b[0mtensorflow\u001b[0m\u001b[1;33m.\u001b[0m\u001b[0mpython\u001b[0m\u001b[1;33m.\u001b[0m\u001b[0mkeras\u001b[0m\u001b[1;33m.\u001b[0m\u001b[0mlayers\u001b[0m \u001b[1;32mimport\u001b[0m \u001b[0mDense\u001b[0m\u001b[1;33m,\u001b[0m \u001b[0mFlatten\u001b[0m\u001b[1;33m,\u001b[0m \u001b[0mGlobalAveragePooling2D\u001b[0m\u001b[1;33m\u001b[0m\u001b[1;33m\u001b[0m\u001b[0m\n",
      "\u001b[1;31mModuleNotFoundError\u001b[0m: No module named 'tensorflow.python.keras.applications.resnet50'"
     ]
    }
   ],
   "source": [
    "from glob import glob\n",
    "import os\n",
    "import numpy as np\n",
    "import pandas as pd\n",
    "import random\n",
    "from skimage.io import imread\n",
    "\n",
    "import matplotlib.pyplot as plt\n",
    "%matplotlib inline\n",
    "\n",
    "from tensorflow.python.keras.applications import ResNet50\n",
    "#from tensorflow.python.keras.applications.resnet50 import preprocess_input, decode_predictions\n",
    "from tensorflow.python.keras.models import Sequential\n",
    "from tensorflow.python.keras.layers import Dense, Flatten, GlobalAveragePooling2D\n",
    "from tensorflow.python.keras.preprocessing.image import ImageDataGenerator, img_to_array, load_img\n",
    "\n",
    "num_classes = 2\n",
    "resnet_weights_path = 'C:/Users/umarh/Desktop/resnet50/resnet50/resnet50_weights_tf_dim_ordering_tf_kernels_notop.h5'\n",
    "\n",
    "model = Sequential()\n",
    "model.add(ResNet50(include_top=False, pooling='avg', weights=resnet_weights_path))\n",
    "model.add(Dense(num_classes, activation='softmax'))\n",
    "\n",
    "model.layers[0].trainable = False\n",
    "\n",
    "model.compile(optimizer='sgd', loss='categorical_crossentropy', metrics=['accuracy'])"
   ]
  },
  {
   "cell_type": "code",
   "execution_count": null,
   "metadata": {
    "_uuid": "390cbdfe5d03f1d56833cea391a46b330a978143"
   },
   "outputs": [],
   "source": [
    "# Path to data\n",
    "data_dir  = 'C:/Users/umarh/Desktop/chest-xray-pneumonia/chest_xray/chest_xray/chest-xray-pneumonia/chest_xray/chest_xray/'\n",
    "train_dir = data_dir+'train/'\n",
    "test_dir  = data_dir+'test/'\n",
    "val_dir   = data_dir + 'val/'\n",
    "\n",
    "# Get the path to the normal and pneumonia sub-directories\n",
    "normal_cases_dir = train_dir + 'NORMAL/'\n",
    "pneumonia_cases_dir = train_dir + 'PNEUMONIA/'\n",
    "\n",
    "print(\"Datasets:\",os.listdir(data_dir))\n",
    "print(\"Train:\\t\", os.listdir(train_dir))\n",
    "print(\"Test:\\t\", os.listdir(test_dir))"
   ]
  },
  {
   "cell_type": "code",
   "execution_count": null,
   "metadata": {
    "_uuid": "67714cfcacf1782c9497f504e0e6b37d9de1978f"
   },
   "outputs": [],
   "source": [
    "img_name = 'NORMAL2-IM-1427-0001.jpeg'\n",
    "img_normal = load_img(normal_cases_dir + img_name)\n",
    "\n",
    "print('NORMAL')\n",
    "plt.imshow(img_normal)\n",
    "plt.show()"
   ]
  },
  {
   "cell_type": "code",
   "execution_count": null,
   "metadata": {
    "_uuid": "9d298de5277c2de2f4a624c4327991e6298e4ce1"
   },
   "outputs": [],
   "source": [
    "img_name = 'person1946_bacteria_4874.jpeg'\n",
    "img_pneumonia = load_img(pneumonia_cases_dir + img_name)\n",
    "\n",
    "print('PNEUMONIA')\n",
    "plt.imshow(img_pneumonia)\n",
    "plt.show()"
   ]
  },
  {
   "cell_type": "markdown",
   "metadata": {
    "_uuid": "cd25913fa8ad5bb09b9d7bebd9468fea2ae62bcd"
   },
   "source": [
    "## Looking at the data"
   ]
  },
  {
   "cell_type": "code",
   "execution_count": null,
   "metadata": {
    "_uuid": "f7318c9cfaff7efb7e098a8abc9ae561c8855233"
   },
   "outputs": [],
   "source": [
    "# Get the list of all the images\n",
    "normal_cases = glob(normal_cases_dir+'C:/Users/umarh/Desktop/chest-xray-pneumonia/chest_xray/chest_xray/train\\NORMAL/*.jpeg')\n",
    "pneumonia_cases = glob(pneumonia_cases_dir+'C:/Users/umarh/Desktop/chest-xray-pneumonia/chest_xray/chest_xray/train/PNEUMONIA/*.jpeg')\n",
    "\n",
    "# An empty list. We will insert the data into this list in (img_path, label) format\n",
    "train_data = []\n",
    "\n",
    "# Go through all the normal cases. The label for these cases will be 0\n",
    "for img in normal_cases:\n",
    "    train_data.append((img,0))\n",
    "\n",
    "# Go through all the pneumonia cases. The label for these cases will be 1\n",
    "for img in pneumonia_cases:\n",
    "    train_data.append((img, 1))\n",
    "\n",
    "# Get a pandas dataframe from the data we have in our list \n",
    "train_data = pd.DataFrame(train_data, columns=['image', 'label'],index=None)\n",
    "\n",
    "# Shuffle the data \n",
    "train_data = train_data.sample(frac=1.).reset_index(drop=True)\n",
    "\n",
    "# Get few samples for both the classes\n",
    "pneumonia_samples = (train_data[train_data['label']==1]['image'].iloc[:5]).tolist()\n",
    "normal_samples = (train_data[train_data['label']==0]['image'].iloc[:5]).tolist()\n",
    "\n",
    "# Concat the data in a single list and del the above two list\n",
    "samples = pneumonia_samples + normal_samples\n",
    "del pneumonia_samples, normal_samples\n",
    "\n",
    "# Plot the data \n",
    "f, ax = plt.subplots(2,5, figsize=(30,10))\n",
    "for i in range(10):\n",
    "    img = imread(samples[i])\n",
    "    ax[i//5, i%5].imshow(img, cmap='gray')\n",
    "    if i<5:\n",
    "        ax[i//5, i%5].set_title(\"Pneumonia\")\n",
    "    else:\n",
    "        ax[i//5, i%5].set_title(\"Normal\")\n",
    "    ax[i//5, i%5].axis('off')\n",
    "    ax[i//5, i%5].set_aspect('auto')\n",
    "plt.show()"
   ]
  },
  {
   "cell_type": "markdown",
   "metadata": {
    "_uuid": "4c71bd31cd749da1f823b487efdab4490ed7ad18"
   },
   "source": [
    "## Fit the model using data augmentation"
   ]
  },
  {
   "cell_type": "code",
   "execution_count": null,
   "metadata": {
    "_cell_guid": "79c7e3d0-c299-4dcb-8224-4455121ee9b0",
    "_uuid": "d629ff2d2480ee46fbb7e2d37f6b5fab8052498a"
   },
   "outputs": [],
   "source": [
    "image_size = 150\n",
    "nb_train_samples = 5216 # number of files in training set\n",
    "batch_size = 16\n",
    "\n",
    "EPOCHS = 6\n",
    "STEPS = nb_train_samples / batch_size\n",
    "\n",
    "## Specify the values for all arguments to data_generator_with_aug.\n",
    "data_generator_with_aug = ImageDataGenerator(preprocessing_function=preprocess_input,\n",
    "                                             horizontal_flip = True,\n",
    "                                             width_shift_range = 0.2,\n",
    "                                             height_shift_range = 0.2,\n",
    "                                             shear_range = 0.2,\n",
    "                                             zoom_range = 0.2\n",
    "                                            )\n",
    "            \n",
    "data_generator_no_aug = ImageDataGenerator(preprocessing_function=preprocess_input            \n",
    "                                          )\n",
    "\n",
    "train_generator = data_generator_with_aug.flow_from_directory(\n",
    "       directory = 'C:/Users/umarh/Desktop/chest-xray-pneumonia/chest_xray/chest_xray/train/',\n",
    "       target_size = (image_size, image_size),\n",
    "       batch_size = batch_size,\n",
    "       class_mode = 'categorical')\n",
    "\n",
    "validation_generator = data_generator_no_aug.flow_from_directory(\n",
    "       directory = 'C:/Users/umarh/Desktop/chest-xray-pneumonia/chest_xray/chest_xray/val/',\n",
    "       target_size = (image_size, image_size),\n",
    "       class_mode = 'categorical')\n",
    "\n",
    "test_generator = data_generator_no_aug.flow_from_directory(\n",
    "       directory = 'C:/Users/umarh/Desktop/chest-xray-pneumonia/chest_xray/chest_xray/test/',\n",
    "       target_size = (image_size, image_size),\n",
    "       batch_size = batch_size,\n",
    "       class_mode = 'categorical')\n",
    "\n",
    "model.fit_generator(\n",
    "       train_generator, # specify where model gets training data\n",
    "       epochs = EPOCHS,\n",
    "       steps_per_epoch=STEPS,\n",
    "       validation_data=validation_generator) # specify where model gets validation data\n",
    "\n",
    "# Evaluate the model\n",
    "scores = model.evaluate_generator(test_generator)\n",
    "print(\"\\n%s: %.2f%%\" % (model.metrics_names[1], scores[1]*100))"
   ]
  },
  {
   "cell_type": "code",
   "execution_count": null,
   "metadata": {
    "_uuid": "26508b8115ebe15d0a8e817768f0642302a282a0"
   },
   "outputs": [],
   "source": [
    "from tensorflow.python.keras.models import load_model\n",
    "model.save('xray_model.h5')\n",
    "# model = load_model('xray_model.h5')"
   ]
  },
  {
   "cell_type": "code",
   "execution_count": null,
   "metadata": {
    "_uuid": "4ebb0635b55d444d35dc09a60db4e0c4653b5952"
   },
   "outputs": [],
   "source": [
    "# Accuracy \n",
    "plt.plot(model.history.history['acc'])\n",
    "plt.plot(model.history.history['val_acc'])\n",
    "plt.title('Model Accuracy')\n",
    "plt.ylabel('Accuracy')\n",
    "plt.xlabel('Epoch')\n",
    "plt.legend(['Training set', 'Validation set'], loc='upper left')\n",
    "plt.show()"
   ]
  },
  {
   "cell_type": "code",
   "execution_count": null,
   "metadata": {
    "_uuid": "d34ea26805469a6414997a8ee19249bd35431b7f"
   },
   "outputs": [],
   "source": [
    "# Loss \n",
    "plt.plot(model.history.history['loss'])\n",
    "plt.plot(model.history.history['val_loss'])\n",
    "plt.title('Model Loss')\n",
    "plt.ylabel('Loss')\n",
    "plt.xlabel('Epoch')\n",
    "plt.legend(['Training set', 'Test set'], loc='upper left')\n",
    "plt.show()"
   ]
  },
  {
   "cell_type": "markdown",
   "metadata": {
    "_uuid": "0a6776c4445209498c70be9f8c8b4cff9bd67935"
   },
   "source": [
    "## Make Predictions"
   ]
  },
  {
   "cell_type": "code",
   "execution_count": null,
   "metadata": {
    "_uuid": "b7da6e694bf7272d06eb449ec327d8aa95e8afaf",
    "scrolled": true
   },
   "outputs": [],
   "source": [
    "def choose_image_and_predict():\n",
    "    normal_or_pneumonia = ['NORMAL', 'PNEUMONIA']\n",
    "    folder_choice = (random.choice(normal_or_pneumonia))\n",
    "    \n",
    "    pneumonia_images = glob('C:/Users/umarh/Desktop/chest-xray-pneumonia/chest_xray/chest_xray/val/'+folder_choice+'/*')\n",
    "    img_choice = (random.choice(pneumonia_images))\n",
    "\n",
    "    img = load_img(img_choice, target_size=(150, 150))\n",
    "    img = img_to_array(img)\n",
    "    plt.imshow(img / 255.)\n",
    "    x = preprocess_input(np.expand_dims(img.copy(), axis=0))\n",
    "    pred_class = model.predict_classes(x)\n",
    "    pred = model.predict(x)\n",
    "    print(\"Actual class:\", folder_choice)\n",
    "    if pred_class[0] == 0:\n",
    "        print(\"Predicted class: Normal\")\n",
    "        print(\"Likelihood:\", pred[0][0].round(4))\n",
    "        if pred[0][0].round(4) < 0.8:\n",
    "            print(\"WARNING, low confidence\")\n",
    "    else:\n",
    "        print(\"Predicted class: Pneumonia\")\n",
    "        print('Likelihood:', pred[0][1].round(4))\n",
    "        if pred[0][1].round(4) < 0.8:\n",
    "            print(\"WARNING, low confidence\")        \n",
    "        \n",
    "choose_image_and_predict()"
   ]
  },
  {
   "cell_type": "code",
   "execution_count": null,
   "metadata": {
    "_uuid": "5e4bb7b3939eb07b7b7a0f900febba13add1e1b7"
   },
   "outputs": [],
   "source": []
  }
 ],
 "metadata": {
  "kernelspec": {
   "display_name": "Python 3",
   "language": "python",
   "name": "python3"
  },
  "language_info": {
   "codemirror_mode": {
    "name": "ipython",
    "version": 3
   },
   "file_extension": ".py",
   "mimetype": "text/x-python",
   "name": "python",
   "nbconvert_exporter": "python",
   "pygments_lexer": "ipython3",
   "version": "3.7.4"
  }
 },
 "nbformat": 4,
 "nbformat_minor": 1
}
